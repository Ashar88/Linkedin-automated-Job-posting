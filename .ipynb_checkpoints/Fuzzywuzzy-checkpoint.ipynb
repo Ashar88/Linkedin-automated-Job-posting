{
 "cells": [
  {
   "cell_type": "code",
   "execution_count": 9,
   "id": "608e7cc1-62e5-4a6c-bf5e-6b8c7a678ada",
   "metadata": {},
   "outputs": [
    {
     "name": "stdout",
     "output_type": "stream",
     "text": [
      "Search Name: johnny\n",
      "Best Match: John Smith\n",
      "Similarity Score: 60\n"
     ]
    }
   ],
   "source": [
    "from fuzzywuzzy import fuzz\n",
    "from fuzzywuzzy import process\n",
    "\n",
    "# List of names\n",
    "names = [\"Wissam Danab\",\"Ashar Saleem\", \"John Smith\", \"Jane Doe\", \"Alex Johnson\"]\n",
    "\n",
    "# Name to search for\n",
    "# search_name = \"Wessam el Danab\"\n",
    "search_name = \"johnny\"\n",
    "\n",
    "# Calculate similarity score for each name\n",
    "similarity_scores = [fuzz.token_set_ratio(search_name, name) for name in names]\n",
    "\n",
    "# Find the best matching name\n",
    "best_match = process.extractOne(search_name, names)\n",
    "\n",
    "print(f\"Search Name: {search_name}\")\n",
    "print(f\"Best Match: {best_match[0]}\")\n",
    "print(f\"Similarity Score: {best_match[1]}\")\n"
   ]
  },
  {
   "cell_type": "code",
   "execution_count": null,
   "id": "4c39c934-8fee-4d46-b061-6833cd1238d3",
   "metadata": {},
   "outputs": [],
   "source": []
  }
 ],
 "metadata": {
  "kernelspec": {
   "display_name": "Python 3 (ipykernel)",
   "language": "python",
   "name": "python3"
  },
  "language_info": {
   "codemirror_mode": {
    "name": "ipython",
    "version": 3
   },
   "file_extension": ".py",
   "mimetype": "text/x-python",
   "name": "python",
   "nbconvert_exporter": "python",
   "pygments_lexer": "ipython3",
   "version": "3.9.12"
  }
 },
 "nbformat": 4,
 "nbformat_minor": 5
}
